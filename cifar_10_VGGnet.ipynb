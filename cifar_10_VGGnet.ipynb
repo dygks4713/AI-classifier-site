{
 "cells": [
  {
   "cell_type": "code",
   "execution_count": null,
   "metadata": {
    "colab": {
     "base_uri": "https://localhost:8080/",
     "height": 677
    },
    "id": "Npm8Yyed8U97",
    "outputId": "d002d8bd-31d5-4d42-d31c-d63f343115c5"
   },
   "outputs": [],
   "source": [
    "# 필요한 라이브러리 임포트\n",
    "import tensorflow as tf\n",
    "from tensorflow.keras import layers, models\n",
    "from tensorflow.keras.datasets import cifar10\n",
    "from tensorflow.keras.utils import to_categorical\n",
    "from tensorflow.keras.callbacks import EarlyStopping\n",
    "from tensorflow.keras.preprocessing.image import ImageDataGenerator\n",
    "\n",
    "# CIFAR-10 데이터 로드 및 전처리\n",
    "(x_train, y_train), (x_test, y_test) = cifar10.load_data()\n",
    "\n",
    "# CIFAR-10 데이터셋 클래스 이름 정의\n",
    "class_names = ['비행기', '자동차', '새', '고양이', '사슴', '개', '개구리', '말', '배', '트럭']\n",
    "\n",
    "# 픽셀 정규화\n",
    "x_train = x_train.astype('float32') / 255.0\n",
    "x_test = x_test.astype('float32') / 255.0\n",
    "\n",
    "# 레이블 원-핫 인코딩\n",
    "y_train = to_categorical(y_train, 10)\n",
    "y_test = to_categorical(y_test, 10)\n",
    "\n",
    "# 데이터 증강 설정\n",
    "datagen = ImageDataGenerator(\n",
    "    rotation_range=20,        # 최대 20도까지 이미지 회전\n",
    "    width_shift_range=0.2,    # 가로로 20% 이동\n",
    "    height_shift_range=0.2,   # 세로로 20% 이동\n",
    "    horizontal_flip=True,     # 이미지 좌우 반전\n",
    "    zoom_range=0.1,           # 이미지 확대/축소\n",
    "    shear_range=0.1           # 이미지 기울이기\n",
    ")\n",
    "\n",
    "datagen.fit(x_train)\n",
    "\n",
    "# VGGNet 모델 정의\n",
    "model = models.Sequential()\n",
    "\n",
    "# 첫 번째 블록\n",
    "model.add(layers.Conv2D(32, (3, 3), activation='relu', padding='same', input_shape=(32, 32, 3)))\n",
    "model.add(layers.Conv2D(32, (3, 3), activation='relu', padding='same', input_shape=(32, 32, 3)))\n",
    "model.add(layers.MaxPooling2D((2, 2)))\n",
    "\n",
    "model.add(layers.Conv2D(64, (3, 3), activation='relu', padding='same'))\n",
    "model.add(layers.Conv2D(64, (3, 3), activation='relu', padding='same'))\n",
    "model.add(layers.MaxPooling2D((2, 2)))\n",
    "model.add(layers.Dropout(0.25))\n",
    "\n",
    "model.add(layers.Conv2D(128, (3, 3), activation='relu', padding='same'))\n",
    "model.add(layers.MaxPooling2D((2, 2)))\n",
    "model.add(layers.Dropout(0.25))\n",
    "model.add(layers.Conv2D(128, (3, 3), activation='relu', padding='same'))\n",
    "model.add(layers.MaxPooling2D((2, 2)))\n",
    "model.add(layers.Dropout(0.25))\n",
    "\n",
    "model.add(layers.Conv2D(256, (3, 3), activation='relu', padding='same'))\n",
    "model.add(layers.MaxPooling2D((2, 2)))\n",
    "model.add(layers.Dropout(0.25))\n",
    "\n",
    "# Fully Connected Layers\n",
    "model.add(layers.Flatten())\n",
    "\n",
    "model.add(layers.Dense(128, activation='relu'))\n",
    "model.add(layers.Dropout(0.5))  # 과적합 방지\n",
    "model.add(layers.Dense(10, activation='softmax'))\n",
    "\n",
    "model.summary()"
   ]
  },
  {
   "cell_type": "code",
   "execution_count": null,
   "metadata": {
    "colab": {
     "base_uri": "https://localhost:8080/"
    },
    "id": "TCjz7Hnv9RS7",
    "outputId": "149013b4-2178-49d7-89ef-d193f03f15f7"
   },
   "outputs": [],
   "source": [
    "# 모델 컴파일\n",
    "model.compile(optimizer='adam', loss='categorical_crossentropy', metrics=['accuracy'])\n",
    "\n",
    "history = model.fit(\n",
    "    datagen.flow(x_train, y_train, batch_size=256),  # 증강된 데이터로 학습\n",
    "    epochs=250,\n",
    "    validation_data=(x_test, y_test)\n",
    ")\n",
    "\n",
    "# 모델 평가\n",
    "test_loss, test_acc = model.evaluate(x_test, y_test, verbose=2)\n",
    "print(f\"테스트 정확도: {test_acc}\")\n",
    "\n",
    "# 모델 저장\n",
    "model.save('vgg_cifar10_model.h5')"
   ]
  },
  {
   "cell_type": "code",
   "execution_count": null,
   "metadata": {
    "colab": {
     "base_uri": "https://localhost:8080/",
     "height": 979
    },
    "id": "-gduHIob9aLx",
    "outputId": "6fa7488e-baa7-46f6-98f7-53abb5ee4655"
   },
   "outputs": [],
   "source": [
    "import numpy as np\n",
    "import matplotlib.pyplot as plt\n",
    "\n",
    "# evaluate() : 모델 평가 지표 반환\n",
    "results =model.evaluate(x_test, y_test)\n",
    "print('테스트 손실 :', results[0])\n",
    "print('테스트 정확도 :', results[1])\n",
    "\n",
    "# 학습 데이터셋과 검증 데이터셋의 정확도와 오차\n",
    "accuracy =history.history['accuracy']\n",
    "val_accuracy =history.history['val_accuracy']\n",
    "loss =history.history['loss']\n",
    "val_loss =history.history['val_loss']\n",
    "\n",
    "epochs = np.arange(len(accuracy))\n",
    "\n",
    "# 정확도 그래프\n",
    "plt.plot(epochs, accuracy, \"b--\", label='train_accuracy')         # 학습 정확도 표시\n",
    "plt.plot(epochs, val_accuracy, \"b\", label='validation _accuracy') # 검증 정확도 표시\n",
    "plt.title('Training and Validation Accuracy')                     # 제목\n",
    "plt.legend()                                                      # 범례\n",
    "plt.grid()                                                        # 그리드(격자)\n",
    "plt.xlabel('epochs')                                              # x축 레이블\n",
    "plt.ylabel('accuracy')                                            # y축 레이블\n",
    "plt.show()                                                        # 그래프 출력\n",
    "\n",
    "# 오차 그래프\n",
    "plt.plot(epochs, loss, \"r--\", label='train_loss')                 # 학습 오차 표시\n",
    "plt.plot(epochs, val_loss, \"r\", label='validation_loss')          # 검증 오차 표시\n",
    "plt.title('Training and Validation Loss')                         # 제목\n",
    "plt.legend()                                                      # 범례\n",
    "plt.grid()                                                        # 그리드(격자)\n",
    "plt.xlabel('epochs')                                              # x축 레이블\n",
    "plt.ylabel('loss')                                                # y축 레이블\n",
    "plt.show()                                                        # 그래프 출력"
   ]
  },
  {
   "cell_type": "code",
   "execution_count": null,
   "metadata": {
    "id": "K3yaNfGqIwr2"
   },
   "outputs": [],
   "source": [
    "model.save('vgg_cifar10_model.keras')"
   ]
  }
 ],
 "metadata": {
  "accelerator": "GPU",
  "colab": {
   "gpuType": "T4",
   "provenance": []
  },
  "kernelspec": {
   "display_name": "Python 3",
   "name": "python3"
  },
  "language_info": {
   "codemirror_mode": {
    "name": "ipython",
    "version": 3
   },
   "file_extension": ".py",
   "mimetype": "text/x-python",
   "name": "python",
   "nbconvert_exporter": "python",
   "pygments_lexer": "ipython3",
   "version": "3.12.0"
  }
 },
 "nbformat": 4,
 "nbformat_minor": 0
}
